{
 "cells": [
  {
   "cell_type": "markdown",
   "metadata": {},
   "source": [
    "<a href='https://ai.meng.duke.edu'> = <img align=\"left\" style=\"padding-top:10px;\" src=https://storage.googleapis.com/aipi_datasets/Duke-AIPI-Logo.png>"
   ]
  },
  {
   "cell_type": "markdown",
   "metadata": {},
   "source": [
    "# Classification error metrics\n",
    "\n",
    "In this notebook we will be applying classification metrics to evaluate the performance of a classifier model.  We will again use the sonar dataset we have previously used.  Details on the dataset can be found [here](https://archive.ics.uci.edu/ml/datasets/Connectionist+Bench+(Sonar,+Mines+vs.+Rocks))"
   ]
  },
  {
   "cell_type": "code",
   "execution_count": 1,
   "metadata": {},
   "outputs": [],
   "source": [
    "import numpy as np\n",
    "import pandas as pd\n",
    "import matplotlib.pyplot as plt\n",
    "import seaborn as sns\n",
    "from sklearn.model_selection import train_test_split\n",
    "from sklearn.neural_network import MLPClassifier\n",
    "\n",
    "import warnings\n",
    "warnings.filterwarnings(\"ignore\")"
   ]
  },
  {
   "cell_type": "code",
   "execution_count": 4,
   "metadata": {},
   "outputs": [],
   "source": [
    "def load_data(url):\n",
    "    # Load the data\n",
    "    data = pd.read_csv(url, header=None)\n",
    "\n",
    "    # Separate into X and y \n",
    "    # Create feature matrix using the first 60 columns as the features\n",
    "    X = data.iloc[:,:60].to_numpy()\n",
    "    # Create target vector from the last column\n",
    "    y = data.iloc[:,60].to_numpy()\n",
    "\n",
    "    # Covert the labels to 0s and 1s\n",
    "    y = np.where(y=='M',1,0)\n",
    "\n",
    "    return X,y\n",
    "\n",
    "X,y = load_data('https://raw.githubusercontent.com/jbrownlee/Datasets/master/sonar.csv')"
   ]
  },
  {
   "cell_type": "code",
   "execution_count": 5,
   "metadata": {},
   "outputs": [],
   "source": [
    "def split(X,y,pct):\n",
    "    # Split the data into training and test sets\n",
    "    X_train,X_test,y_train,y_test = train_test_split(X, y, random_state=0,test_size=pct)\n",
    "    return X_train, y_train, X_test, y_test\n",
    "\n",
    "X_train, y_train, X_test, y_test = split(X,y,pct=0.4)"
   ]
  },
  {
   "cell_type": "markdown",
   "metadata": {},
   "source": [
    "We will train a MLP model on the data and then get the predictions for the test set."
   ]
  },
  {
   "cell_type": "code",
   "execution_count": 6,
   "metadata": {},
   "outputs": [],
   "source": [
    "# Set up the MLP classifier model\n",
    "model = MLPClassifier(hidden_layer_sizes=(100,50),activation='relu',\n",
    "                      solver='sgd',learning_rate_init=0.01,max_iter=1000)\n",
    "\n",
    "# Train the model on the training data\n",
    "model.fit(X_train,y_train)\n",
    "\n",
    "# Get the predictions for the test data to compute error metrics\n",
    "test_preds = model.predict(X_test)"
   ]
  },
  {
   "cell_type": "markdown",
   "metadata": {},
   "source": [
    "Now we are ready to compute our error metrics.  Let's start by displaying the confusion matrix"
   ]
  },
  {
   "cell_type": "code",
   "execution_count": 7,
   "metadata": {},
   "outputs": [
    {
     "data": {
      "image/png": "[encoded data removed]",
      "text/plain": [
       "<Figure size 432x288 with 2 Axes>"
      ]
     },
     "metadata": {
      "needs_background": "light"
     },
     "output_type": "display_data"
    }
   ],
   "source": [
    "from sklearn.metrics import plot_confusion_matrix\n",
    "plot_confusion_matrix(model, X_test, y_test,cmap=plt.cm.Blues,normalize=None)\n",
    "plt.show()"
   ]
  },
  {
   "cell_type": "markdown",
   "metadata": {},
   "source": [
    "### Question: what is more important to us, minimizing false positives or false negatives?\n",
    "### Therefore, which metric should we pay more attention to - precision or recall?"
   ]
  },
  {
   "cell_type": "code",
   "execution_count": 8,
   "metadata": {},
   "outputs": [
    {
     "name": "stdout",
     "output_type": "stream",
     "text": [
      "Accuracy: 0.774\n",
      "Recall: 0.787\n",
      "Precision: 0.804\n"
     ]
    }
   ],
   "source": [
    "# Compute the accuracy, precision and recall for the target class ('1')\n",
    "from sklearn.metrics import accuracy_score,recall_score,precision_score\n",
    "def print_metrics(y_test,preds):\n",
    "    print('Accuracy: {:.3f}'.format(accuracy_score(y_test,preds)))\n",
    "    print('Recall: {:.3f}'.format(recall_score(y_test,preds)))\n",
    "    print('Precision: {:.3f}'.format(precision_score(y_test,preds)))\n",
    "    return\n",
    "\n",
    "print_metrics(test_preds,y_test)"
   ]
  },
  {
   "cell_type": "code",
   "execution_count": 9,
   "metadata": {},
   "outputs": [
    {
     "name": "stdout",
     "output_type": "stream",
     "text": [
      "              precision    recall  f1-score   support\n",
      "\n",
      "           0       0.76      0.74      0.75        38\n",
      "           1       0.79      0.80      0.80        46\n",
      "\n",
      "    accuracy                           0.77        84\n",
      "   macro avg       0.77      0.77      0.77        84\n",
      "weighted avg       0.77      0.77      0.77        84\n",
      "\n"
     ]
    }
   ],
   "source": [
    "# Alternatively, simply use sklearn's classification_report\n",
    "from sklearn.metrics import classification_report\n",
    "print(classification_report(y_test,test_preds))"
   ]
  },
  {
   "cell_type": "markdown",
   "metadata": {},
   "source": [
    "### Adjusting threshold values\n",
    "Now let's change the threshold value for classification of something as a mine ('1') and see how it impacts our metrics"
   ]
  },
  {
   "cell_type": "code",
   "execution_count": 10,
   "metadata": {},
   "outputs": [
    {
     "name": "stdout",
     "output_type": "stream",
     "text": [
      "Accuracy: 0.774\n",
      "Recall: 0.935\n",
      "Precision: 0.729\n"
     ]
    }
   ],
   "source": [
    "# Get the predicted probabilities of class \"1\"\n",
    "test_preds_prob = model.predict_proba(X_test)\n",
    "test_preds_prob1 = test_preds_prob[:,1]\n",
    "\n",
    "# Use a threshold=0.1 to get discreet predictions from the probabilities\n",
    "thresh = 0.1\n",
    "test_preds_thresh = (test_preds_prob1>=thresh).astype(int)\n",
    "\n",
    "# Calculate metrics\n",
    "print_metrics(y_test,test_preds_thresh)"
   ]
  },
  {
   "cell_type": "code",
   "execution_count": 11,
   "metadata": {},
   "outputs": [
    {
     "name": "stdout",
     "output_type": "stream",
     "text": [
      "Accuracy: 0.774\n",
      "Recall: 0.717\n",
      "Precision: 0.846\n"
     ]
    }
   ],
   "source": [
    "# Use a threshold=0.9 to get discreet predictions from the probabilities\n",
    "thresh = 0.9\n",
    "test_preds_thresh = (test_preds_prob1>=thresh).astype(int)\n",
    "\n",
    "# Calculate metrics\n",
    "print_metrics(y_test,test_preds_thresh)"
   ]
  },
  {
   "cell_type": "markdown",
   "metadata": {},
   "source": [
    "### ROC Curve"
   ]
  },
  {
   "cell_type": "code",
   "execution_count": 12,
   "metadata": {},
   "outputs": [
    {
     "data": {
      "image/png": "[encoded data removed]",
      "text/plain": [
       "<Figure size 432x288 with 1 Axes>"
      ]
     },
     "metadata": {
      "needs_background": "light"
     },
     "output_type": "display_data"
    }
   ],
   "source": [
    "# Plot the ROC curve\n",
    "from sklearn.metrics import plot_roc_curve\n",
    "plot_roc_curve(model,X_test,y_test)\n",
    "# Add a line to show the curve for random guessing\n",
    "plt.plot([0,1],[0,1],linestyle='--',label='Random guessing')\n",
    "plt.legend()\n",
    "plt.show()"
   ]
  },
  {
   "cell_type": "markdown",
   "metadata": {},
   "source": [
    "### Precision-Recall Curve"
   ]
  },
  {
   "cell_type": "code",
   "execution_count": 13,
   "metadata": {},
   "outputs": [
    {
     "data": {
      "image/png": "[encoded data removed]",
      "text/plain": [
       "<Figure size 432x288 with 1 Axes>"
      ]
     },
     "metadata": {
      "needs_background": "light"
     },
     "output_type": "display_data"
    }
   ],
   "source": [
    "# Plot the precision-recall curve\n",
    "from sklearn.metrics import plot_precision_recall_curve\n",
    "plot_precision_recall_curve(model,X_test,y_test)\n",
    "plt.show()"
   ]
  }
 ],
 "metadata": {
  "kernelspec": {
   "display_name": "Python 3.9.7 ('aipi540')",
   "language": "python",
   "name": "python3"
  },
  "language_info": {
   "codemirror_mode": {
    "name": "ipython",
    "version": 3
   },
   "file_extension": ".py",
   "mimetype": "text/x-python",
   "name": "python",
   "nbconvert_exporter": "python",
   "pygments_lexer": "ipython3",
   "version": "3.9.7"
  },
  "vscode": {
   "interpreter": {
    "hash": "31cc86d7aac4849c7546154c9b56d60163d5e8a1d83593a5eed18774fbf4fd37"
   }
  }
 },
 "nbformat": 4,
 "nbformat_minor": 4
}
